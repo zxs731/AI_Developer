{
 "cells": [
  {
   "cell_type": "code",
   "execution_count": 27,
   "id": "bde7c841-5c2e-434c-9d25-cbad34712b6b",
   "metadata": {},
   "outputs": [],
   "source": [
    "def run_python_code(py_code, g=globals()):\n",
    "    \"\"\"\n",
    "    专门用于执行python代码，并获取最终查询或处理结果。\n",
    "    :param py_code: 字符串形式的Python代码，用于执行对telco_db数据库中各张数据表进行操作\n",
    "    :param g: g，字符串形式变量，表示环境变量，无需设置，保持默认参数即可\n",
    "    :return：代码运行的最终结果\n",
    "    \"\"\"    \n",
    "    \n",
    "    global_vars_before = set(g.keys())\n",
    "    try:\n",
    "        exec(py_code, g)            \n",
    "    except Exception as e:\n",
    "        return f\"代码执行时报错{e}\"\n",
    "    global_vars_after = set(g.keys())\n",
    "    new_vars = global_vars_after - global_vars_before\n",
    "    # 若存在新变量\n",
    "    if new_vars:\n",
    "        result = {var: g[var] for var in new_vars}\n",
    "        return str(result)\n",
    "    # 若不存在新变量\n",
    "    else:\n",
    "        try:\n",
    "            # 尝试如果是表达式，则返回表达式运行结果\n",
    "            result = eval(py_code, g)\n",
    "            print(\"代码运行结果:\", result)  # 打印表达式结果\n",
    "            return str(result)\n",
    "        except Exception as e:\n",
    "            # 若不是表达式，尝试再次执行代码\n",
    "            try:\n",
    "                exec(py_code, g)\n",
    "                return \"已经顺利执行代码\"\n",
    "            except Exception as e:\n",
    "                return f\"代码执行时报错{e}\""
   ]
  },
  {
   "cell_type": "code",
   "execution_count": 28,
   "id": "fba0100d-20fa-4eb0-88a6-b53fb36aa9b6",
   "metadata": {},
   "outputs": [],
   "source": [
    "function_info_run_python_code = {\n",
    "    'name': 'run_python_code',\n",
    "    'description': 'run python code',\n",
    "    'parameters': {\n",
    "        'type': 'object',\n",
    "        'properties': {\n",
    "            'py_code': {\n",
    "                'type': 'string',\n",
    "                'description': 'The python code function writen in string'\n",
    "            },\n",
    "            'g': {\n",
    "                'type': 'string',\n",
    "                'description': 'The default scope of execution, please ignore it'\n",
    "            }\n",
    "        },\n",
    "        'required': ['py_code']\n",
    "    }\n",
    "}"
   ]
  },
  {
   "cell_type": "code",
   "execution_count": 29,
   "id": "a408fc69-c346-4e2b-be2f-c0e0db773781",
   "metadata": {},
   "outputs": [],
   "source": [
    "import json, ast\n",
    "import openai\n",
    "from dotenv import load_dotenv  \n",
    "import os\n",
    "\n",
    "# 加载.env文件  \n",
    "load_dotenv(\"en1106.env\")  \n",
    "\n",
    "os.environ[\"OPENAI_API_TYPE\"] = os.environ[\"Azure_OPENAI_API_TYPE1\"]\n",
    "os.environ[\"OPENAI_API_BASE\"] = os.environ[\"Azure_OPENAI_API_BASE1\"]\n",
    "os.environ[\"OPENAI_API_KEY\"] =  os.environ[\"Azure_OPENAI_API_KEY1\"]\n",
    "os.environ[\"OPENAI_API_VERSION\"] = os.environ[\"Azure_OPENAI_API_VERSION1\"]\n",
    "BASE_URL=os.environ[\"OPENAI_API_BASE\"]\n",
    "API_KEY=os.environ[\"OPENAI_API_KEY\"]\n",
    "\n",
    "CHAT_DEPLOYMENT_NAME=os.environ.get('AZURE_OPENAI_API_CHAT_DEPLOYMENT_NAME')\n",
    "EMBEDDING_DEPLOYMENT_NAME=os.environ.get('AZURE_OPENAI_API_EMBEDDING_DEPLOYMENT_NAME')\n",
    "\n",
    "openai.api_type = os.environ[\"OPENAI_API_TYPE\"]\n",
    "openai.api_base = os.environ[\"OPENAI_API_BASE\"]\n",
    "openai.api_version = \"2023-07-01-preview\"\n",
    "openai.api_key = os.getenv(\"OPENAI_API_KEY\")"
   ]
  },
  {
   "cell_type": "code",
   "execution_count": 30,
   "id": "bbc1399b-315a-4723-a4ff-d5372645a2f1",
   "metadata": {},
   "outputs": [],
   "source": [
    "import json\n",
    "import io\n",
    "import inspect\n",
    "import requests\n",
    "\n",
    "from IPython.display import display, Code, Markdown\n",
    "import tiktoken\n",
    "def check_code_run(messages, \n",
    "                   functions_list = None, \n",
    "                   functions = None,\n",
    "                   model = \"gpt-35-turbo-1106\", \n",
    "                   function_call = \"auto\", \n",
    "                   auto_run = True):\n",
    "    \n",
    "    \"\"\"\n",
    "    能够自动执行外部函数调用的Chat对话模型，专门用于代码解释器的构建过程，可以通过auto_run参数设置，决定是否自动执行代码\n",
    "    :param messages: 必要参数，字典类型，输入到Chat模型的messages参数对象\n",
    "    :param functions_list: 可选参数，默认为None，可以设置为包含全部外部函数的列表对象\n",
    "    :param functions: 可选参数，默认为None，可以设置为包含全部外部函数参数解释Schema格式列表\n",
    "    :param model: Chat模型，可选参数，默认模型为gpt-3.5\n",
    "    :auto_run：在调用外部函数的情况下，是否自动进行Second Response。该参数只在外部函数存在时起作用\n",
    "    :return：Chat模型输出结果\n",
    "    \"\"\"\n",
    "    \n",
    "    # 如果没有外部函数库，则执行普通的对话任务\n",
    "    if functions_list == None:\n",
    "        response = openai.ChatCompletion.create(\n",
    "                        model=model,\n",
    "                        engine=model,\n",
    "                        messages=messages,\n",
    "                        )\n",
    "        response_message = response[\"choices\"][0][\"message\"]\n",
    "        final_response = response_message[\"content\"]\n",
    "        \n",
    "    # 若存在外部函数库，则需要灵活选取外部函数并进行回答\n",
    "    else:\n",
    "        \n",
    "        # 创建外部函数库字典\n",
    "        available_functions = {func.__name__: func for func in functions_list}\n",
    "\n",
    "        # first response\n",
    "        response = openai.ChatCompletion.create(\n",
    "                        model=model,\n",
    "                        engine=model,\n",
    "                        messages=messages,\n",
    "                        tools=functions, \n",
    "                        tool_choice=function_call)\n",
    "        response_message = response[\"choices\"][0][\"message\"]\n",
    "\n",
    "        # 判断返回结果是否存在function_call，即判断是否需要调用外部函数来回答问题\n",
    "        # 若存在function_call，则执行Function calling流程\n",
    "        # 需要调用外部函数，由于考虑到可能存在多次Function calling情况，这里创建While循环\n",
    "        # While循环停止条件：response_message不包含function_call\n",
    "        while response_message.get(\"tool_calls\"):\n",
    "            print(\"正在调用外部函数...\")\n",
    "            try:\n",
    "                tool_calls=response_message[\"tool_calls\"]\n",
    "                resultMessages=[]\n",
    "\n",
    "                results={}\n",
    "                g=globals() \n",
    "                for tool_call in tool_calls:\n",
    "                    # 获取函数名\n",
    "                    function_name = tool_call[\"function\"][\"name\"]\n",
    "                    # 获取函数参数\n",
    "                    function_args = json.loads(tool_call[\"function\"][\"arguments\"])\n",
    "                    # 将当前操作空间中的全局变量添加到外部函数中\n",
    "                    function_args['g']=g.copy()\n",
    "\n",
    "                    def convert_to_markdown(code, language):\n",
    "                        return f\"```{language}\\n{code}\\n```\"\n",
    "\n",
    "                    if function_args.get('py_code'):\n",
    "                        code = function_args['py_code']\n",
    "                        markdown_code = convert_to_markdown(code, 'python')\n",
    "                        print(\"即将执行以下代码：\")\n",
    "\n",
    "                    else:\n",
    "                        markdown_code = function_args\n",
    "\n",
    "                    display(Markdown(markdown_code))\n",
    "\n",
    "                    if auto_run == False:\n",
    "                        res = input('请确认是否运行上述代码（1），或者退出本次运行过程（2）' )\n",
    "\n",
    "                        if res == '2':\n",
    "                            print(\"终止运行\")\n",
    "                            return None\n",
    "\n",
    "                    print(\"正在执行代码，请稍后...\")\n",
    "\n",
    "\n",
    "                    # 获取函数对象\n",
    "                    fuction_to_call = available_functions[function_name]\n",
    "                    # 将函数参数输入到函数中，获取函数计算结果\n",
    "                    function_response = fuction_to_call(**function_args)\n",
    "                    results[tool_call.id]=function_response\n",
    "                    print(\"外部函数已运行完毕\")\n",
    "                    print(\"外部函数结果：\")\n",
    "                    print(function_response)\n",
    "\n",
    "                    resultMessages.append(\n",
    "                        {\n",
    "                                \"tool_call_id\": tool_call.id,\n",
    "                                \"role\": \"tool\",\n",
    "                                \"name\": tool_call.function.name,\n",
    "                                \"content\": str(results[tool_call.id]) if results[tool_call.id] else '',\n",
    "                            }\n",
    "                    )  \n",
    "            \n",
    "                # messages中拼接first response消息\n",
    "                response_message['content']=' '\n",
    "                messages.append(response_message)  \n",
    "                # messages中拼接函数输出结果\n",
    "                messages=messages+resultMessages\n",
    "                \n",
    "                # 第二次调用模型\n",
    "                second_response = openai.ChatCompletion.create(\n",
    "                    model=model,\n",
    "                    engine=model,\n",
    "                    messages=messages,\n",
    "                    tools=functions, \n",
    "                    tool_choice=function_call)\n",
    "\n",
    "                # 更新response_message\n",
    "                response_message = second_response[\"choices\"][0][\"message\"]\n",
    "        \n",
    "            except Exception as e:\n",
    "                print(\"json格式对象创建失败，正在重新运行\")\n",
    "                final_response = check_code_run(messages = messages, \n",
    "                                                functions_list = functions_list, \n",
    "                                                functions = functions,\n",
    "                                                model = model, \n",
    "                                                function_call = function_call, \n",
    "                                                auto_run = auto_run)\n",
    "                \n",
    "        # While条件不满足，或执行完While循环之后，提取返回结果\n",
    "        final_response = response_message\n",
    "\n",
    "        display(Markdown(final_response[\"content\"]))\n",
    "\n",
    "        messages.append(response_message)\n",
    "    \n",
    "    return messages"
   ]
  },
  {
   "cell_type": "code",
   "execution_count": 32,
   "id": "46dd9a24-847b-41d9-a2b0-15fc918c21f2",
   "metadata": {},
   "outputs": [
    {
     "name": "stdout",
     "output_type": "stream",
     "text": [
      "正在调用外部函数...\n",
      "即将执行以下代码：\n"
     ]
    },
    {
     "data": {
      "text/markdown": [
       "```python\n",
       "# Calculate the first 20 numbers in the Fibonacci sequence\n",
       "fibonacci_sequence = [0, 1]\n",
       "for i in range(2, 20):\n",
       "    next_number = fibonacci_sequence[-1] + fibonacci_sequence[-2]\n",
       "    fibonacci_sequence.append(next_number)\n",
       "fibonacci_sequence\n",
       "```"
      ],
      "text/plain": [
       "<IPython.core.display.Markdown object>"
      ]
     },
     "metadata": {},
     "output_type": "display_data"
    },
    {
     "name": "stdout",
     "output_type": "stream",
     "text": [
      "正在执行代码，请稍后...\n",
      "外部函数已运行完毕\n",
      "外部函数结果：\n",
      "{'i': 19, 'next_number': 4181, 'fibonacci_sequence': [0, 1, 1, 2, 3, 5, 8, 13, 21, 34, 55, 89, 144, 233, 377, 610, 987, 1597, 2584, 4181]}\n",
      "正在调用外部函数...\n",
      "即将执行以下代码：\n"
     ]
    },
    {
     "data": {
      "text/markdown": [
       "```python\n",
       "from sympy import symbols, Eq, solve\n",
       "\n",
       "# Define the symbols\n",
       "x, y = symbols('x y')\n",
       "\n",
       "# Define the equations\n",
       "eq1 = Eq(4*x + 3*y, 120)\n",
       "eq2 = Eq(x - 2*y, 12)\n",
       "\n",
       "# Solve the equations\n",
       "solution = solve((eq1, eq2), (x, y))\n",
       "solution\n",
       "```"
      ],
      "text/plain": [
       "<IPython.core.display.Markdown object>"
      ]
     },
     "metadata": {},
     "output_type": "display_data"
    },
    {
     "name": "stdout",
     "output_type": "stream",
     "text": [
      "正在执行代码，请稍后...\n",
      "外部函数已运行完毕\n",
      "外部函数结果：\n",
      "{'solution': {x: 276/11, y: 72/11}}\n",
      "即将执行以下代码：\n"
     ]
    },
    {
     "data": {
      "text/markdown": [
       "```python\n",
       "from sympy import Eq, solve, symbols\n",
       "x, y = symbols('x y')\n",
       "eq1 = Eq(4*x + 3*y, 120)\n",
       "eq2 = Eq(x - 2*y, 12)\n",
       "solution=solve((eq1, eq2), (x, y))  \n",
       "solution\n",
       "```"
      ],
      "text/plain": [
       "<IPython.core.display.Markdown object>"
      ]
     },
     "metadata": {},
     "output_type": "display_data"
    },
    {
     "name": "stdout",
     "output_type": "stream",
     "text": [
      "正在执行代码，请稍后...\n",
      "外部函数已运行完毕\n",
      "外部函数结果：\n",
      "{'solution': {x: 276/11, y: 72/11}}\n",
      "即将执行以下代码：\n"
     ]
    },
    {
     "data": {
      "text/markdown": [
       "```python\n",
       "from sympy import Eq, solve, symbols\n",
       "x, y = symbols('x y')\n",
       "eq1 = Eq(4*x + 3*y, 120)\n",
       "eq2 = Eq(x - 2*y, 12)\n",
       "solution=solve((eq1, eq2))\n",
       "solution\n",
       "```"
      ],
      "text/plain": [
       "<IPython.core.display.Markdown object>"
      ]
     },
     "metadata": {},
     "output_type": "display_data"
    },
    {
     "name": "stdout",
     "output_type": "stream",
     "text": [
      "正在执行代码，请稍后...\n",
      "外部函数已运行完毕\n",
      "外部函数结果：\n",
      "{'solution': {x: 276/11, y: 72/11}}\n"
     ]
    },
    {
     "data": {
      "text/markdown": [
       "The first 20 numbers in the Fibonacci sequence are:\n",
       "\\[0, 1, 1, 2, 3, 5, 8, 13, 21, 34, 55, 89, 144, 233, 377, 610, 987, 1597, 2584, 4181\\]\n",
       "\n",
       "The solutions to the equations are:\n",
       "\\[x = \\frac{276}{11},\\, y = \\frac{72}{11}\\]"
      ],
      "text/plain": [
       "<IPython.core.display.Markdown object>"
      ]
     },
     "metadata": {},
     "output_type": "display_data"
    }
   ],
   "source": [
    "messages=[{'role': 'user', 'content': '给出斐波那契前20位，  并解方程： 4x+3y=120  x-2y=12'}]\n",
    "system_message = {\"role\":\"system\",\"content\":'''You're python developer.And always create python function to resolve question\"\n",
    "    '''}\n",
    "response_message = check_code_run(messages=[system_message]+messages[-10:], \n",
    "                                  functions_list = [run_python_code], \n",
    "                                  functions = [{\n",
    "                                    \"type\": \"function\",\n",
    "                                    \"function\": function_info_run_python_code\n",
    "                                       }])"
   ]
  },
  {
   "cell_type": "code",
   "execution_count": null,
   "id": "31a2874c-96df-430e-8dcc-97b2dcb0aae2",
   "metadata": {},
   "outputs": [],
   "source": []
  },
  {
   "cell_type": "code",
   "execution_count": null,
   "id": "d7c3c3df-400d-4d16-8fe6-87e1a95cf9d9",
   "metadata": {},
   "outputs": [],
   "source": []
  }
 ],
 "metadata": {
  "kernelspec": {
   "display_name": "Python 3 (ipykernel)",
   "language": "python",
   "name": "python3"
  },
  "language_info": {
   "codemirror_mode": {
    "name": "ipython",
    "version": 3
   },
   "file_extension": ".py",
   "mimetype": "text/x-python",
   "name": "python",
   "nbconvert_exporter": "python",
   "pygments_lexer": "ipython3",
   "version": "3.9.16"
  }
 },
 "nbformat": 4,
 "nbformat_minor": 5
}
